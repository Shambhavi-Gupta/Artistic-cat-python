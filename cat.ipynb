{
  "nbformat": 4,
  "nbformat_minor": 0,
  "metadata": {
    "colab": {
      "name": "cat.ipynb",
      "provenance": [],
      "authorship_tag": "ABX9TyPPoAQKIZ1r4nk6hwpF2wzi",
      "include_colab_link": true
    },
    "kernelspec": {
      "name": "python3",
      "display_name": "Python 3"
    }
  },
  "cells": [
    {
      "cell_type": "markdown",
      "metadata": {
        "id": "view-in-github",
        "colab_type": "text"
      },
      "source": [
        "<a href=\"https://colab.research.google.com/github/Shambhavi-Gupta/Artistic-cat-python/blob/master/cat.ipynb\" target=\"_parent\"><img src=\"https://colab.research.google.com/assets/colab-badge.svg\" alt=\"Open In Colab\"/></a>"
      ]
    },
    {
      "cell_type": "code",
      "metadata": {
        "id": "8k9Aquz2fXHK",
        "colab_type": "code",
        "outputId": "e6170592-d462-435b-b4fb-9d5ba7147456",
        "colab": {
          "base_uri": "https://localhost:8080/",
          "height": 187
        }
      },
      "source": [
        "print('                              _')\n",
        "print('                            /  )  ')\n",
        "print('                           (   )   ')\n",
        "print('         A .-. A   .- \"\"-.(   )     ')\n",
        "print('        /  ,  , \\\\/      \\\\ / /     ')\n",
        "print('       =\\\\   t   ;=     /   /    ')\n",
        "print('         \\- - , \\   .\" \"|  /    ')\n",
        "print('                ||  | \\\\\\\\ \\ \\ ')\n",
        "print('               ((,_ | ((, _ \\  ')\n",
        "\n",
        "print('      _^_^_^_^_^_^_^_^_^_^_^_^_^_^_^_^_^_^_  ')"
      ],
      "execution_count": 0,
      "outputs": [
        {
          "output_type": "stream",
          "text": [
            "                              _\n",
            "                            /  )  \n",
            "                           (   )   \n",
            "         A .-. A   .- \"\"-.(   )     \n",
            "        /  ,  , \\/      \\ / /     \n",
            "       =\\   t   ;=     /   /    \n",
            "         \\- - , \\   .\" \"|  /    \n",
            "                ||  | \\\\ \\ \\ \n",
            "               ((,_ | ((, _ \\  \n",
            "      _^_^_^_^_^_^_^_^_^_^_^_^_^_^_^_^_^_^_  \n"
          ],
          "name": "stdout"
        }
      ]
    },
    {
      "cell_type": "code",
      "metadata": {
        "id": "VSH-tKzzh7ql",
        "colab_type": "code",
        "colab": {}
      },
      "source": [
        ""
      ],
      "execution_count": 0,
      "outputs": []
    }
  ]
}